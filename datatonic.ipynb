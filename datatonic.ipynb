{
 "cells": [
  {
   "cell_type": "code",
   "execution_count": null,
   "metadata": {
    "collapsed": false
   },
   "outputs": [],
   "source": [
    "import pandas as pd\n",
    "import matplotlib.pyplot as plt\n",
    "import numpy as np\n",
    "%matplotlib inline\n",
    "import calendar\n",
    "plt.style.use('ggplot')\n",
    "import seaborn as sns\n",
    "import datetime\n",
    "pd.set_option('display.max_columns', 500)\n",
    "from scipy.stats import ttest_ind\n",
    "#from mpl_toolkits.basemap import Basemap\n",
    "#from geopy.geocoders import Nominatim\n",
    "\n",
    "FIG_SIZE = (15,5)"
   ]
  },
  {
   "cell_type": "markdown",
   "metadata": {},
   "source": [
    "[Top reasons for delays](http://www.mro-network.com/maintenance-repair-overhaul/top-5-reasons-flight-delays/gallery?slide=5)\n",
    "* late arriving aircraft\n",
    "* air carrier delays\n",
    "* heavy traffic volume\n",
    "* extreme weather\n",
    "* security lines\n"
   ]
  },
  {
   "cell_type": "code",
   "execution_count": null,
   "metadata": {
    "collapsed": false,
    "scrolled": true
   },
   "outputs": [],
   "source": [
    "size = 'medium' # ['small','medium','large']\n",
    "flights = pd.read_csv(\"flights_{0}.csv\".format(size))\n",
    "flights[\"Date\"] = pd.to_datetime(flights[\"Date\"])\n",
    "n,m = flights.shape\n",
    "any_nans = flights.isnull().values.any()\n",
    "print(\"n observations = {0:,}. n features = {1}. Any NANs = {2}\".format(n,m,any_nans))\n",
    "flights.head(5)"
   ]
  },
  {
   "cell_type": "markdown",
   "metadata": {},
   "source": [
    "### Get year and month of flight"
   ]
  },
  {
   "cell_type": "code",
   "execution_count": null,
   "metadata": {
    "collapsed": false,
    "scrolled": true
   },
   "outputs": [],
   "source": [
    "flights.insert(loc=1,column=\"month\",value=pd.DatetimeIndex(flights['Date']).month)\n",
    "flights.insert(loc=1,column=\"year\",value=pd.DatetimeIndex(flights['Date']).year)\n",
    "flights[[\"Date\",\"year\",\"month\"]].head(20)"
   ]
  },
  {
   "cell_type": "markdown",
   "metadata": {},
   "source": [
    "### Log delays as highly skewed (focus on departure delays as opposed to arrivals)"
   ]
  },
  {
   "cell_type": "code",
   "execution_count": null,
   "metadata": {
    "collapsed": false
   },
   "outputs": [],
   "source": [
    "#keep_range = np.percentile(flights['Departure_delay'],[1,99]) # extreme delays\n",
    "#print(keep_range) # 98% of flight delays in between -12mins 2hrs20\n",
    "#long_delays = flights[flights['Departure_delay']>keep_range[1]]\n",
    "flights = flights[flights['Departure_delay'].between(keep_range[0],keep_range[1])] #(remove outliers)\n",
    "flights['Departure_delay']#not interested in 'negative' delays"
   ]
  },
  {
   "cell_type": "code",
   "execution_count": null,
   "metadata": {
    "collapsed": false
   },
   "outputs": [],
   "source": [
    "plt.hist(np.log(flights['Departure_delay']))"
   ]
  },
  {
   "cell_type": "markdown",
   "metadata": {},
   "source": [
    "### Bin Departure delays "
   ]
  },
  {
   "cell_type": "code",
   "execution_count": null,
   "metadata": {
    "collapsed": false
   },
   "outputs": [],
   "source": [
    "flights['Departure_delay_bin'] = pd.cut(flights['Departure_delay'],\n",
    "                                        bins=(-15,15,45,240),labels=(\"No delay\",\"Short delay\",\"Long Delay\"))\n",
    "flights['Departure_delay_bin'].value_counts()"
   ]
  },
  {
   "cell_type": "markdown",
   "metadata": {},
   "source": [
    "### What is the trend over time in number of flights?"
   ]
  },
  {
   "cell_type": "code",
   "execution_count": null,
   "metadata": {
    "collapsed": false
   },
   "outputs": [],
   "source": [
    "flights_by_year = flights.groupby('year').size()\n",
    "flights_by_month = flights.groupby('month').size()\n",
    "f, (ax1, ax2) = plt.subplots(1, 2,figsize=FIG_SIZE)\n",
    "months = flights_by_month.index \n",
    "months_names = [calendar.month_abbr[mon] for mon in months]\n",
    "width=1.0\n",
    "ax1.plot(flights_by_year); ax1.set_xlabel(\"Year\"); ax1.set_ylabel(\"Total number of flights\")\n",
    "ax2.bar(months,flights_by_month,width=width); ax2.set_xticklabels(months_names); ax2.set_xticks(months + width / 2);\n",
    "ax2.set_xlabel(\"Month\"); ax2.set_ylabel(\"Total number of flights\")\n",
    "plt.show()"
   ]
  },
  {
   "cell_type": "markdown",
   "metadata": {},
   "source": [
    "* Flights by year shows decrease in total annual flights after 2006. Possibly due to financial crash.\n",
    "* Flights by month differences might possibly be related to US holidays."
   ]
  },
  {
   "cell_type": "markdown",
   "metadata": {},
   "source": [
    "### In delay times? "
   ]
  },
  {
   "cell_type": "code",
   "execution_count": null,
   "metadata": {
    "collapsed": false
   },
   "outputs": [],
   "source": [
    "departure_delay_year = flights[[\"Departure_delay\",\"year\"]].groupby(\"year\").agg([\"mean\",\"median\"]) \n",
    "departure_delay_month = flights[[\"Departure_delay\",\"month\"]].groupby('month').agg([\"mean\",\"median\"])\n",
    "f, (ax1, ax2) = plt.subplots(1, 2,figsize=FIG_SIZE)\n",
    "ax1.plot(departure_delay_year)\n",
    "ax1.legend((\"Mean departure delay\",\"Median departure delay\"))\n",
    "ax1.set_ylabel(\"Depature delay time\"); ax1.set_xlabel(\"Year\")\n",
    "\n",
    "width = 0.25\n",
    "ax2.bar(months,departure_delay_month[\"Departure_delay\"][\"mean\"].values,width=width,color='red');\n",
    "ax2.bar(months+width,departure_delay_month[\"Departure_delay\"][\"median\"].values,width=width);\n",
    "ax2.set_xticklabels(months_names); ax2.set_xticks(months + width / 2);\n",
    "ax2.set_xlabel(\"Month\"); ax2.set_ylabel(\"Depature delay time\")\n",
    "ax2.legend((\"mean\",\"median\"))\n",
    "plt.show()"
   ]
  },
  {
   "cell_type": "markdown",
   "metadata": {},
   "source": [
    "* Delays seem to be correlated with overall traffic. E.g. delays are more likely to be long in high traffic months such as june, july as well as high traffic years e.g. 2006. \n",
    "* Delays also very higher in winter months as expected.\n",
    "* Mean >> Median implying positivley skewed delays. I.e there are few very long delays"
   ]
  },
  {
   "cell_type": "markdown",
   "metadata": {},
   "source": [
    "### Delays arguably related to weather which is related to location. Should see relationship between latitude (\"north-south\") and delay time"
   ]
  },
  {
   "cell_type": "code",
   "execution_count": null,
   "metadata": {
    "collapsed": false
   },
   "outputs": [],
   "source": [
    "flights['latitude_bin'] = np.where(flights.Latitude>40,'north','south') # anything above 40 lat classes as north"
   ]
  },
  {
   "cell_type": "code",
   "execution_count": null,
   "metadata": {
    "collapsed": true
   },
   "outputs": [],
   "source": [
    "def plot_two_dist(dist1,dist2,title_append=''):\n",
    "    dist1_n, dist2_n = dist1['values'].size, dist2['values'].size\n",
    "    f, ax1 = plt.subplots(1, 1,figsize=FIG_SIZE)\n",
    "    sns.kdeplot(dist1['values'],ax=ax1,label=dist1['name'],bw=4,color='red')\n",
    "    sns.kdeplot(dist2['values'],ax=ax1,label=dist2['name'],bw=4,color='blue')\n",
    "    ax1.vlines(dist1['values'].mean(), 0, 1,colors='red')\n",
    "    ax1.vlines(dist2['values'].mean(), 0, 1,colors='blue')\n",
    "    plt.title(\"Counts for {0}={1}, {2}={3}. {4}\".format(dist1['name'],dist1_n,\n",
    "                                                   dist2['name'],dist2_n,\n",
    "                                                     title_append))\n",
    "    plt.legend()\n",
    "    plt.show()"
   ]
  },
  {
   "cell_type": "code",
   "execution_count": null,
   "metadata": {
    "collapsed": false
   },
   "outputs": [],
   "source": [
    "flights_winter = flights[flights['month'].isin([1,12])] # winter months\n",
    "north_delays_winter = flights_winter[(flights_winter['latitude_bin']=='north')]['Departure_delay']\n",
    "south_delays_winter = flights_winter[(flights_winter['latitude_bin']=='south')]['Departure_delay']\n",
    "dist1={'values':north_delays_winter,'name':'North'}\n",
    "dist2={'values':south_delays_winter,'name':'South'}\n",
    "plot_two_dist(dist1,dist2)\n"
   ]
  },
  {
   "cell_type": "markdown",
   "metadata": {},
   "source": [
    "* no real difference in departure delays. possibly need specific weather information"
   ]
  },
  {
   "cell_type": "markdown",
   "metadata": {},
   "source": [
    "### Load weather, look at wind/snow by date and aiport (departure airport)"
   ]
  },
  {
   "cell_type": "code",
   "execution_count": null,
   "metadata": {
    "collapsed": true
   },
   "outputs": [],
   "source": [
    "weather = pd.read_csv(\"weather.csv\")\n",
    "weather[\"Date\"] = pd.to_datetime(weather[\"Date\"])\n",
    "weather = weather.rename(columns={\"airport\": \"Departure_Airport\"})"
   ]
  },
  {
   "cell_type": "markdown",
   "metadata": {},
   "source": [
    "### if snow and rain do not change (i.e. std==0) by day at each airport then we can just merge our flight data and weather data and keep any one of the time values"
   ]
  },
  {
   "cell_type": "code",
   "execution_count": null,
   "metadata": {
    "collapsed": false
   },
   "outputs": [],
   "source": [
    "weather_by_date_airport = weather[['snow','wind',\"Date\",\"Departure_Airport\"]].groupby([\"Date\",\"Departure_Airport\"]).agg(['std'])\n",
    "np.any(weather_by_date_airport>0) # snow and rain values do not change each day given an airport.\n",
    "weather.drop('time',axis=1,inplace=True) # therefore time is redundant\n",
    "weather.drop_duplicates(inplace=True) "
   ]
  },
  {
   "cell_type": "markdown",
   "metadata": {},
   "source": [
    "### now merge flight data with weather"
   ]
  },
  {
   "cell_type": "code",
   "execution_count": null,
   "metadata": {
    "collapsed": false
   },
   "outputs": [],
   "source": [
    "flights_weather = flights.merge(weather,how='left',on=[\"Date\",\"Departure_Airport\"], indicator=True)"
   ]
  },
  {
   "cell_type": "markdown",
   "metadata": {},
   "source": [
    "### assume null = 0. i.e. no entry has been entered into dataset if no snow or wind"
   ]
  },
  {
   "cell_type": "code",
   "execution_count": null,
   "metadata": {
    "collapsed": false
   },
   "outputs": [],
   "source": [
    "flights_weather[['snow','wind']] = flights_weather[['snow','wind']].fillna(0)\n",
    "f, (ax1,ax2) = plt.subplots(1, 2,figsize=FIG_SIZE)\n",
    "sns.distplot(flights_weather.wind,bins=np.arange(0,15,1),ax=ax1,label='wind',kde=False)\n",
    "sns.distplot(flights_weather.snow,bins=np.arange(0,5,1),ax=ax2,label='snow',kde=False)\n",
    "plt.show()"
   ]
  },
  {
   "cell_type": "markdown",
   "metadata": {},
   "source": [
    "* Bin wind into NONE, less than 6 and greater than 6. \n",
    "* Bin snow into YES/NO"
   ]
  },
  {
   "cell_type": "markdown",
   "metadata": {},
   "source": [
    "### Check delay distribution by whether or not snow was present"
   ]
  },
  {
   "cell_type": "code",
   "execution_count": null,
   "metadata": {
    "collapsed": false,
    "scrolled": true
   },
   "outputs": [],
   "source": [
    "for snow_value in range(1,12,2):\n",
    "    flights_weather['snow_bool'] = flights_weather[['snow']] > snow_value\n",
    "    no_snow = flights_weather['Departure_delay'][flights_weather.snow_bool==0]\n",
    "    snow = flights_weather['Departure_delay'][flights_weather.snow_bool==1]\n",
    "    dist1={'values':no_snow,'name':'No snow'}\n",
    "    dist2={'values':snow,'name':'Snow'}\n",
    "    title = 'snow var > {0}'.format(snow_value)\n",
    "    plot_two_dist(dist1,dist2,title_append=title)\n",
    "    "
   ]
  },
  {
   "cell_type": "markdown",
   "metadata": {},
   "source": [
    "* small difference in distributions which gets greater the higher the threshold of 'snow_bool'. Number of events gets very small however."
   ]
  },
  {
   "cell_type": "markdown",
   "metadata": {},
   "source": [
    "### Check delay distribution by wind"
   ]
  },
  {
   "cell_type": "code",
   "execution_count": null,
   "metadata": {
    "collapsed": false,
    "scrolled": true
   },
   "outputs": [],
   "source": [
    "for wind_value in range(1,20,4):\n",
    "    flights_weather['wind_bin'] = flights_weather['wind'] > wind_value\n",
    "    no_wind = flights_weather['Departure_delay'][flights_weather.wind_bin==0]\n",
    "    wind = flights_weather['Departure_delay'][flights_weather.wind_bin>0]\n",
    "    dist1={'values':no_wind,'name':'No wind'}\n",
    "    dist2={'values':wind,'name':'Wind'}\n",
    "    title = 'Wind thresh > {0}'.format(wind_value)\n",
    "    plot_two_dist(dist1,dist2,title)"
   ]
  },
  {
   "cell_type": "markdown",
   "metadata": {},
   "source": [
    "### Ice or no ice (sub zero)"
   ]
  },
  {
   "cell_type": "code",
   "execution_count": null,
   "metadata": {
    "collapsed": false
   },
   "outputs": [],
   "source": [
    "plt.hist(flights_weather['temperature']); plt.show()"
   ]
  },
  {
   "cell_type": "markdown",
   "metadata": {},
   "source": [
    "* Must be in farenheit"
   ]
  },
  {
   "cell_type": "code",
   "execution_count": null,
   "metadata": {
    "collapsed": false,
    "scrolled": false
   },
   "outputs": [],
   "source": [
    "flights_weather['sub_zero'] = flights_weather['temperature'] < 32 #0C = 32F\n",
    "flights_weather.temperature.fillna(flights_weather.temperature.mean(),inplace=True) # assume mean temperature for missing"
   ]
  },
  {
   "cell_type": "code",
   "execution_count": null,
   "metadata": {
    "collapsed": false
   },
   "outputs": [],
   "source": [
    "no_ice = flights_weather['Departure_delay'][flights_weather.sub_zero==False] ## may not be actual ice, just a name.\n",
    "ice = flights_weather['Departure_delay'][flights_weather.sub_zero==True]\n",
    "dist1={'values':no_ice,'name':'No ice'}\n",
    "dist2={'values':ice,'name':'Ice'}\n",
    "plot_two_dist(dist1,dist2)"
   ]
  },
  {
   "cell_type": "markdown",
   "metadata": {},
   "source": [
    "* \"Ice\" is quite rare event but looks like it increases delays"
   ]
  },
  {
   "cell_type": "markdown",
   "metadata": {},
   "source": [
    "### Flights delays by airport"
   ]
  },
  {
   "cell_type": "code",
   "execution_count": null,
   "metadata": {
    "collapsed": false
   },
   "outputs": [],
   "source": [
    "flights_weather.columns"
   ]
  },
  {
   "cell_type": "code",
   "execution_count": null,
   "metadata": {
    "collapsed": false,
    "scrolled": false
   },
   "outputs": [],
   "source": [
    "state_delay = flights_weather[[\"Departure_delay\",\"Departure_delay_bin\",\"Departure_State\"]].groupby(\"Departure_State\").agg(['mean','count','std'])"
   ]
  },
  {
   "cell_type": "code",
   "execution_count": null,
   "metadata": {
    "collapsed": false
   },
   "outputs": [],
   "source": [
    "x = state_delay['Departure_delay']['count'].values\n",
    "y = state_delay['Departure_delay']['mean'].values"
   ]
  },
  {
   "cell_type": "code",
   "execution_count": null,
   "metadata": {
    "collapsed": false
   },
   "outputs": [],
   "source": [
    "plt.scatter(x,)"
   ]
  }
 ],
 "metadata": {
  "anaconda-cloud": {},
  "kernelspec": {
   "display_name": "Python [conda env:anaconda]",
   "language": "python",
   "name": "conda-env-anaconda-py"
  },
  "language_info": {
   "codemirror_mode": {
    "name": "ipython",
    "version": 3
   },
   "file_extension": ".py",
   "mimetype": "text/x-python",
   "name": "python",
   "nbconvert_exporter": "python",
   "pygments_lexer": "ipython3",
   "version": "3.5.2"
  }
 },
 "nbformat": 4,
 "nbformat_minor": 2
}
